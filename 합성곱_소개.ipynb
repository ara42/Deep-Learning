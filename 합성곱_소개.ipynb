{
  "nbformat": 4,
  "nbformat_minor": 0,
  "metadata": {
    "colab": {
      "provenance": [],
      "authorship_tag": "ABX9TyPSL4Vegc0OecO40KRm6spy",
      "include_colab_link": true
    },
    "kernelspec": {
      "name": "python3",
      "display_name": "Python 3"
    },
    "language_info": {
      "name": "python"
    }
  },
  "cells": [
    {
      "cell_type": "markdown",
      "metadata": {
        "id": "view-in-github",
        "colab_type": "text"
      },
      "source": [
        "<a href=\"https://colab.research.google.com/github/ara42/Deep-Learning/blob/main/%ED%95%A9%EC%84%B1%EA%B3%B1_%EC%86%8C%EA%B0%9C.ipynb\" target=\"_parent\"><img src=\"https://colab.research.google.com/assets/colab-badge.svg\" alt=\"Open In Colab\"/></a>"
      ]
    },
    {
      "cell_type": "markdown",
      "source": [
        "\n",
        "참고 교재: https://www.gilbut.co.kr/book/view?bookcode=BN003496"
      ],
      "metadata": {
        "id": "Gvah4hlwg3xi"
      }
    },
    {
      "cell_type": "code",
      "execution_count": 1,
      "metadata": {
        "id": "1wUAzDWneuQo"
      },
      "outputs": [],
      "source": [
        "import tensorflow as tf\n",
        "from tensorflow import keras\n",
        "from keras import models\n",
        "from keras import layers"
      ]
    },
    {
      "cell_type": "code",
      "source": [
        "from keras.datasets import mnist"
      ],
      "metadata": {
        "id": "14q4MhPakoVS"
      },
      "execution_count": 3,
      "outputs": []
    },
    {
      "cell_type": "code",
      "source": [
        "(x_train,y_train),(x_test,y_test) = mnist.load_data()\n",
        "x_train = x_train.reshape(-1,28,28,1)\n",
        "x_test = x_test.reshape(-1,28,28,1)\n",
        "x_train = x_train/255.0\n",
        "x_test = x_test/255.0\n",
        "x_train = x_train.astype('float32')\n",
        "x_test = x_test.astype('float32')"
      ],
      "metadata": {
        "id": "1o-rvakFkre9"
      },
      "execution_count": 5,
      "outputs": []
    },
    {
      "cell_type": "code",
      "source": [
        "inputs = keras.Input(shape=(28,28,1))\n",
        "fm = layers.Conv2D(filters=32, kernel_size=3, activation='relu')(inputs)\n",
        "fm = layers.MaxPooling2D(pool_size=2)(fm)\n",
        "fm2 = layers.Conv2D(filters=64, kernel_size=3, activation='relu')(fm)\n",
        "fm2 = layers.MaxPooling2D(pool_size=2)(fm2)\n",
        "fm3 = layers.Conv2D(filters=128, kernel_size=3, activation='relu')(fm2)\n",
        "x = layers.Flatten()(fm3)\n",
        "outputs = layers.Dense(10,activation='softmax')(x)\n",
        "model = keras.Model(inputs,outputs)"
      ],
      "metadata": {
        "id": "bm_gieXRlC_Y"
      },
      "execution_count": 11,
      "outputs": []
    },
    {
      "cell_type": "code",
      "source": [
        "model.summary()"
      ],
      "metadata": {
        "colab": {
          "base_uri": "https://localhost:8080/"
        },
        "id": "BQtMFD_1ncZy",
        "outputId": "beca957a-bf07-4426-d76e-9cf429fe35af"
      },
      "execution_count": 12,
      "outputs": [
        {
          "output_type": "stream",
          "name": "stdout",
          "text": [
            "Model: \"model_2\"\n",
            "_________________________________________________________________\n",
            " Layer (type)                Output Shape              Param #   \n",
            "=================================================================\n",
            " input_3 (InputLayer)        [(None, 28, 28, 1)]       0         \n",
            "                                                                 \n",
            " conv2d_6 (Conv2D)           (None, 26, 26, 32)        320       \n",
            "                                                                 \n",
            " max_pooling2d_4 (MaxPooling  (None, 13, 13, 32)       0         \n",
            " 2D)                                                             \n",
            "                                                                 \n",
            " conv2d_7 (Conv2D)           (None, 11, 11, 64)        18496     \n",
            "                                                                 \n",
            " max_pooling2d_5 (MaxPooling  (None, 5, 5, 64)         0         \n",
            " 2D)                                                             \n",
            "                                                                 \n",
            " conv2d_8 (Conv2D)           (None, 3, 3, 128)         73856     \n",
            "                                                                 \n",
            " flatten_2 (Flatten)         (None, 1152)              0         \n",
            "                                                                 \n",
            " dense_2 (Dense)             (None, 10)                11530     \n",
            "                                                                 \n",
            "=================================================================\n",
            "Total params: 104,202\n",
            "Trainable params: 104,202\n",
            "Non-trainable params: 0\n",
            "_________________________________________________________________\n"
          ]
        }
      ]
    },
    {
      "cell_type": "code",
      "source": [
        "model.compile(optimizer = 'rmsprop',\n",
        "              loss = keras.losses.sparse_categorical_crossentropy,\n",
        "              metrics = ['accuracy'])\n",
        "hist = model.fit(x_train, y_train, epochs=5, batch_size=64, validation_split=0.2)"
      ],
      "metadata": {
        "colab": {
          "base_uri": "https://localhost:8080/"
        },
        "id": "aLTwXrqmnhsd",
        "outputId": "dc505b37-f2c6-4e0c-a40b-2755e5eb615b"
      },
      "execution_count": 13,
      "outputs": [
        {
          "output_type": "stream",
          "name": "stdout",
          "text": [
            "Epoch 1/5\n",
            "750/750 [==============================] - 60s 80ms/step - loss: 0.1839 - accuracy: 0.9419 - val_loss: 0.0604 - val_accuracy: 0.9822\n",
            "Epoch 2/5\n",
            "750/750 [==============================] - 60s 80ms/step - loss: 0.0493 - accuracy: 0.9847 - val_loss: 0.0452 - val_accuracy: 0.9872\n",
            "Epoch 3/5\n",
            "750/750 [==============================] - 63s 84ms/step - loss: 0.0336 - accuracy: 0.9897 - val_loss: 0.0400 - val_accuracy: 0.9898\n",
            "Epoch 4/5\n",
            "750/750 [==============================] - 58s 77ms/step - loss: 0.0241 - accuracy: 0.9924 - val_loss: 0.0368 - val_accuracy: 0.9901\n",
            "Epoch 5/5\n",
            "750/750 [==============================] - 65s 86ms/step - loss: 0.0184 - accuracy: 0.9939 - val_loss: 0.0386 - val_accuracy: 0.9912\n"
          ]
        }
      ]
    },
    {
      "cell_type": "code",
      "source": [
        "model.evaluate(x_test, y_test)"
      ],
      "metadata": {
        "colab": {
          "base_uri": "https://localhost:8080/"
        },
        "id": "nmM2xxH8odDk",
        "outputId": "68798527-9011-4249-df22-019eb8808b9a"
      },
      "execution_count": 14,
      "outputs": [
        {
          "output_type": "stream",
          "name": "stdout",
          "text": [
            "313/313 [==============================] - 3s 11ms/step - loss: 0.0276 - accuracy: 0.9914\n"
          ]
        },
        {
          "output_type": "execute_result",
          "data": {
            "text/plain": [
              "[0.02764539234340191, 0.9914000034332275]"
            ]
          },
          "metadata": {},
          "execution_count": 14
        }
      ]
    },
    {
      "cell_type": "code",
      "source": [],
      "metadata": {
        "id": "Ooj4YF4-sd88"
      },
      "execution_count": null,
      "outputs": []
    }
  ]
}