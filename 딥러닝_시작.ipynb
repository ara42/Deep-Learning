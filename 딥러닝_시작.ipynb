{
  "nbformat": 4,
  "nbformat_minor": 0,
  "metadata": {
    "colab": {
      "provenance": [],
      "authorship_tag": "ABX9TyP0d96A7+N5zAv3NGCob7F2",
      "include_colab_link": true
    },
    "kernelspec": {
      "name": "python3",
      "display_name": "Python 3"
    },
    "language_info": {
      "name": "python"
    }
  },
  "cells": [
    {
      "cell_type": "markdown",
      "metadata": {
        "id": "view-in-github",
        "colab_type": "text"
      },
      "source": [
        "<a href=\"https://colab.research.google.com/github/ara42/Deep-Learning/blob/main/%EB%94%A5%EB%9F%AC%EB%8B%9D_%EC%8B%9C%EC%9E%91.ipynb\" target=\"_parent\"><img src=\"https://colab.research.google.com/assets/colab-badge.svg\" alt=\"Open In Colab\"/></a>"
      ]
    },
    {
      "cell_type": "code",
      "execution_count": 1,
      "metadata": {
        "id": "tedGYvnDbA3L"
      },
      "outputs": [],
      "source": [
        "def fibonacci(n):\n",
        "  if n<=0:\n",
        "    return 0\n",
        "  if n==1 or n==2:\n",
        "    return 1\n",
        "  return fibonacci(n-1) + fibonacci(n-2)"
      ]
    },
    {
      "cell_type": "code",
      "source": [
        "for i in range(30):\n",
        "    print(fibonacci(i),end=' ')"
      ],
      "metadata": {
        "colab": {
          "base_uri": "https://localhost:8080/"
        },
        "id": "K8I0-FDK9BEU",
        "outputId": "8a96df9d-0503-40b7-9f28-964df1068452"
      },
      "execution_count": 2,
      "outputs": [
        {
          "output_type": "stream",
          "name": "stdout",
          "text": [
            "0 1 1 2 3 5 8 13 21 34 55 89 144 233 377 610 987 1597 2584 4181 6765 10946 17711 28657 46368 75025 121393 196418 317811 514229 "
          ]
        }
      ]
    },
    {
      "cell_type": "code",
      "source": [
        "import time"
      ],
      "metadata": {
        "id": "b74nsTQ09HIz"
      },
      "execution_count": 3,
      "outputs": []
    },
    {
      "cell_type": "code",
      "source": [
        "for i in range(35,50):\n",
        "    print(\"#\",i,end=':')\n",
        "    s = time.time()\n",
        "    re = fibonacci(i)\n",
        "    e = time.time()\n",
        "    print(f\"소요시간 : {e-s:.4f} 결과 : {re}\")"
      ],
      "metadata": {
        "colab": {
          "base_uri": "https://localhost:8080/"
        },
        "id": "sI2un8pn9Khx",
        "outputId": "d1bb314f-66d0-4ed7-8441-3cc4cc516ef2"
      },
      "execution_count": 5,
      "outputs": [
        {
          "output_type": "stream",
          "name": "stdout",
          "text": [
            "# 35:소요시간 : 2.7987 결과 : 9227465\n",
            "# 36:소요시간 : 5.9638 결과 : 14930352\n",
            "# 37:소요시간 : 7.3111 결과 : 24157817\n",
            "# 38:소요시간 : 13.2506 결과 : 39088169\n",
            "# 39:소요시간 : 22.0190 결과 : 63245986\n",
            "# 40:소요시간 : 35.3569 결과 : 102334155\n",
            "# 41:소요시간 : 57.4515 결과 : 165580141\n",
            "# 42:소요시간 : 97.6970 결과 : 267914296\n",
            "# 43:소요시간 : 149.7303 결과 : 433494437\n",
            "# 44:소요시간 : 243.0262 결과 : 701408733\n",
            "# 45:소요시간 : 392.9047 결과 : 1134903170\n",
            "# 46:소요시간 : 633.7888 결과 : 1836311903\n",
            "# 47:소요시간 : 1033.7125 결과 : 2971215073\n",
            "# 48:소요시간 : 1656.0230 결과 : 4807526976\n",
            "# 49:소요시간 : 2677.7736 결과 : 7778742049\n"
          ]
        }
      ]
    },
    {
      "cell_type": "code",
      "source": [
        "answer = [0,1,1]\n",
        "def fibonacci2(n):\n",
        "    if n >= len(answer):\n",
        "      re = fibonacci(n-1) + fibonacci(n-2)\n",
        "      answer.append(re)\n",
        "    return answer[n]"
      ],
      "metadata": {
        "id": "UJgbORxN9XEc"
      },
      "execution_count": null,
      "outputs": []
    },
    {
      "cell_type": "markdown",
      "source": [
        "## 첫 딥러닝"
      ],
      "metadata": {
        "id": "z_ZhYpJ4gFzv"
      }
    },
    {
      "cell_type": "code",
      "source": [
        "import tensorflow as tf\n",
        "from tensorflow import keras\n",
        "from tensorflow.keras.datasets import mnist"
      ],
      "metadata": {
        "id": "XnrWAD3XgEGQ"
      },
      "execution_count": 6,
      "outputs": []
    },
    {
      "cell_type": "code",
      "source": [
        "(x_train, y_train), (x_test,y_test) = mnist.load_data()"
      ],
      "metadata": {
        "id": "nNqyvbmSgr-v"
      },
      "execution_count": 8,
      "outputs": []
    },
    {
      "cell_type": "code",
      "source": [
        "x_train.shape, x_test.shape"
      ],
      "metadata": {
        "colab": {
          "base_uri": "https://localhost:8080/"
        },
        "id": "i6uyqj7Lg40T",
        "outputId": "39be7b9d-94fd-4fc9-d59a-01dbeba2ffab"
      },
      "execution_count": 9,
      "outputs": [
        {
          "output_type": "execute_result",
          "data": {
            "text/plain": [
              "((60000, 28, 28), (10000, 28, 28))"
            ]
          },
          "metadata": {},
          "execution_count": 9
        }
      ]
    },
    {
      "cell_type": "markdown",
      "source": [
        "## 전처리"
      ],
      "metadata": {
        "id": "vUq1AQHahovf"
      }
    },
    {
      "cell_type": "code",
      "source": [
        "x_train = x_train.reshape(-1,28*28)\n",
        "x_test = x_test.reshape(-1,28*28)\n",
        "x_train.shape, x_test.shape"
      ],
      "metadata": {
        "colab": {
          "base_uri": "https://localhost:8080/"
        },
        "id": "vWVIWAW3hK2o",
        "outputId": "c173e242-686e-477d-e354-c9761b2ab745"
      },
      "execution_count": 11,
      "outputs": [
        {
          "output_type": "execute_result",
          "data": {
            "text/plain": [
              "((60000, 784), (10000, 784))"
            ]
          },
          "metadata": {},
          "execution_count": 11
        }
      ]
    },
    {
      "cell_type": "code",
      "source": [
        "import numpy as np"
      ],
      "metadata": {
        "id": "n_-oDp2ih6Km"
      },
      "execution_count": 12,
      "outputs": []
    },
    {
      "cell_type": "code",
      "source": [
        "np.max(x_train), np.min(x_train)"
      ],
      "metadata": {
        "colab": {
          "base_uri": "https://localhost:8080/"
        },
        "id": "Ufnd8dMsh8dG",
        "outputId": "e6c122af-65c8-4000-ce4b-5cd3a0851461"
      },
      "execution_count": 14,
      "outputs": [
        {
          "output_type": "execute_result",
          "data": {
            "text/plain": [
              "(255, 0)"
            ]
          },
          "metadata": {},
          "execution_count": 14
        }
      ]
    },
    {
      "cell_type": "code",
      "source": [
        "x_train = x_train/255.0\n",
        "x_test = x_test/255.0"
      ],
      "metadata": {
        "id": "9SOdiv6Ph9y1"
      },
      "execution_count": 15,
      "outputs": []
    },
    {
      "cell_type": "code",
      "source": [
        "np.max(x_train), np.min(x_train)"
      ],
      "metadata": {
        "colab": {
          "base_uri": "https://localhost:8080/"
        },
        "id": "lcfzM9pHiPif",
        "outputId": "d67b5cee-00a6-4d48-c82c-23c8f33c3d44"
      },
      "execution_count": 16,
      "outputs": [
        {
          "output_type": "execute_result",
          "data": {
            "text/plain": [
              "(1.0, 0.0)"
            ]
          },
          "metadata": {},
          "execution_count": 16
        }
      ]
    },
    {
      "cell_type": "markdown",
      "source": [
        "## 모델 생성"
      ],
      "metadata": {
        "id": "mjys6M89jfHN"
      }
    },
    {
      "cell_type": "code",
      "source": [
        "from keras import models\n",
        "from keras import layers"
      ],
      "metadata": {
        "id": "eU28HkfuiQgH"
      },
      "execution_count": 17,
      "outputs": []
    },
    {
      "cell_type": "code",
      "source": [
        "model = models.Sequential()"
      ],
      "metadata": {
        "id": "1PYz0CPujmHk"
      },
      "execution_count": 18,
      "outputs": []
    },
    {
      "cell_type": "code",
      "source": [
        "model.add(layers.Input(shape = (784,)))\n",
        "model.add(layers.Dense(512,activation='relu')) #회귀\n",
        "model.add(layers.Dense(10,activation='softmax')) #다중 분류"
      ],
      "metadata": {
        "id": "BwCemd6wj5Hu"
      },
      "execution_count": 19,
      "outputs": []
    },
    {
      "cell_type": "code",
      "source": [
        "model.compile(loss = keras.losses.sparse_categorical_crossentropy,\n",
        "              optimizer = 'adam',\n",
        "              metrics = ['accuracy'])\n",
        "model.summary()"
      ],
      "metadata": {
        "colab": {
          "base_uri": "https://localhost:8080/"
        },
        "id": "6mHoyRkbku3m",
        "outputId": "db6c5eb5-cd7e-4cca-f600-3fb9bf59959b"
      },
      "execution_count": 20,
      "outputs": [
        {
          "output_type": "stream",
          "name": "stdout",
          "text": [
            "Model: \"sequential\"\n",
            "_________________________________________________________________\n",
            " Layer (type)                Output Shape              Param #   \n",
            "=================================================================\n",
            " dense (Dense)               (None, 512)               401920    \n",
            "                                                                 \n",
            " dense_1 (Dense)             (None, 10)                5130      \n",
            "                                                                 \n",
            "=================================================================\n",
            "Total params: 407,050\n",
            "Trainable params: 407,050\n",
            "Non-trainable params: 0\n",
            "_________________________________________________________________\n"
          ]
        }
      ]
    },
    {
      "cell_type": "markdown",
      "source": [
        "## 학습"
      ],
      "metadata": {
        "id": "zLZ3tpOAmP_Z"
      }
    },
    {
      "cell_type": "code",
      "source": [
        "hist = model.fit(x_train, y_train, epochs = 100,\n",
        "                 batch_size = 128,\n",
        "                 validation_split = 0.2)"
      ],
      "metadata": {
        "colab": {
          "base_uri": "https://localhost:8080/"
        },
        "id": "vengbdSqlvZY",
        "outputId": "bcc92118-91af-4dbd-e882-1cbbe7f3eae5"
      },
      "execution_count": 22,
      "outputs": [
        {
          "output_type": "stream",
          "name": "stdout",
          "text": [
            "Epoch 1/100\n",
            "375/375 [==============================] - 7s 16ms/step - loss: 0.2996 - accuracy: 0.9150 - val_loss: 0.1483 - val_accuracy: 0.9581\n",
            "Epoch 2/100\n",
            "375/375 [==============================] - 5s 12ms/step - loss: 0.1227 - accuracy: 0.9649 - val_loss: 0.1142 - val_accuracy: 0.9658\n",
            "Epoch 3/100\n",
            "375/375 [==============================] - 5s 12ms/step - loss: 0.0811 - accuracy: 0.9764 - val_loss: 0.0998 - val_accuracy: 0.9699\n",
            "Epoch 4/100\n",
            "375/375 [==============================] - 6s 15ms/step - loss: 0.0579 - accuracy: 0.9832 - val_loss: 0.0881 - val_accuracy: 0.9732\n",
            "Epoch 5/100\n",
            "375/375 [==============================] - 5s 12ms/step - loss: 0.0414 - accuracy: 0.9885 - val_loss: 0.0780 - val_accuracy: 0.9767\n",
            "Epoch 6/100\n",
            "375/375 [==============================] - 5s 13ms/step - loss: 0.0325 - accuracy: 0.9905 - val_loss: 0.0798 - val_accuracy: 0.9771\n",
            "Epoch 7/100\n",
            "375/375 [==============================] - 6s 17ms/step - loss: 0.0231 - accuracy: 0.9940 - val_loss: 0.0786 - val_accuracy: 0.9766\n",
            "Epoch 8/100\n",
            "375/375 [==============================] - 7s 20ms/step - loss: 0.0195 - accuracy: 0.9948 - val_loss: 0.0839 - val_accuracy: 0.9756\n",
            "Epoch 9/100\n",
            "375/375 [==============================] - 5s 12ms/step - loss: 0.0136 - accuracy: 0.9970 - val_loss: 0.0873 - val_accuracy: 0.9747\n",
            "Epoch 10/100\n",
            "375/375 [==============================] - 5s 12ms/step - loss: 0.0106 - accuracy: 0.9976 - val_loss: 0.0790 - val_accuracy: 0.9780\n",
            "Epoch 11/100\n",
            "375/375 [==============================] - 6s 15ms/step - loss: 0.0076 - accuracy: 0.9986 - val_loss: 0.0759 - val_accuracy: 0.9799\n",
            "Epoch 12/100\n",
            "375/375 [==============================] - 4s 11ms/step - loss: 0.0059 - accuracy: 0.9990 - val_loss: 0.0855 - val_accuracy: 0.9777\n",
            "Epoch 13/100\n",
            "375/375 [==============================] - 4s 12ms/step - loss: 0.0095 - accuracy: 0.9975 - val_loss: 0.1036 - val_accuracy: 0.9753\n",
            "Epoch 14/100\n",
            "375/375 [==============================] - 6s 15ms/step - loss: 0.0081 - accuracy: 0.9980 - val_loss: 0.0903 - val_accuracy: 0.9766\n",
            "Epoch 15/100\n",
            "375/375 [==============================] - 4s 12ms/step - loss: 0.0040 - accuracy: 0.9993 - val_loss: 0.0801 - val_accuracy: 0.9813\n",
            "Epoch 16/100\n",
            "375/375 [==============================] - 5s 13ms/step - loss: 0.0016 - accuracy: 0.9999 - val_loss: 0.0822 - val_accuracy: 0.9808\n",
            "Epoch 17/100\n",
            "375/375 [==============================] - 5s 14ms/step - loss: 0.0016 - accuracy: 0.9997 - val_loss: 0.0922 - val_accuracy: 0.9785\n",
            "Epoch 18/100\n",
            "375/375 [==============================] - 4s 12ms/step - loss: 0.0119 - accuracy: 0.9961 - val_loss: 0.0946 - val_accuracy: 0.9783\n",
            "Epoch 19/100\n",
            "375/375 [==============================] - 6s 15ms/step - loss: 0.0070 - accuracy: 0.9979 - val_loss: 0.0955 - val_accuracy: 0.9783\n",
            "Epoch 20/100\n",
            "375/375 [==============================] - 5s 12ms/step - loss: 0.0033 - accuracy: 0.9993 - val_loss: 0.0908 - val_accuracy: 0.9794\n",
            "Epoch 21/100\n",
            "375/375 [==============================] - 4s 11ms/step - loss: 0.0010 - accuracy: 1.0000 - val_loss: 0.0847 - val_accuracy: 0.9812\n",
            "Epoch 22/100\n",
            "375/375 [==============================] - 6s 15ms/step - loss: 4.1599e-04 - accuracy: 1.0000 - val_loss: 0.0845 - val_accuracy: 0.9816\n",
            "Epoch 23/100\n",
            "375/375 [==============================] - 4s 12ms/step - loss: 2.7780e-04 - accuracy: 1.0000 - val_loss: 0.0854 - val_accuracy: 0.9821\n",
            "Epoch 24/100\n",
            "375/375 [==============================] - 5s 14ms/step - loss: 2.2767e-04 - accuracy: 1.0000 - val_loss: 0.0868 - val_accuracy: 0.9824\n",
            "Epoch 25/100\n",
            "375/375 [==============================] - 6s 16ms/step - loss: 1.9798e-04 - accuracy: 1.0000 - val_loss: 0.0877 - val_accuracy: 0.9819\n",
            "Epoch 26/100\n",
            "375/375 [==============================] - 4s 11ms/step - loss: 1.7312e-04 - accuracy: 1.0000 - val_loss: 0.0885 - val_accuracy: 0.9823\n",
            "Epoch 27/100\n",
            "375/375 [==============================] - 5s 14ms/step - loss: 1.5911e-04 - accuracy: 1.0000 - val_loss: 0.0890 - val_accuracy: 0.9818\n",
            "Epoch 28/100\n",
            "375/375 [==============================] - 4s 11ms/step - loss: 0.0180 - accuracy: 0.9948 - val_loss: 0.1198 - val_accuracy: 0.9740\n",
            "Epoch 29/100\n",
            "375/375 [==============================] - 4s 11ms/step - loss: 0.0083 - accuracy: 0.9974 - val_loss: 0.0986 - val_accuracy: 0.9797\n",
            "Epoch 30/100\n",
            "375/375 [==============================] - 5s 14ms/step - loss: 0.0047 - accuracy: 0.9986 - val_loss: 0.1076 - val_accuracy: 0.9785\n",
            "Epoch 31/100\n",
            "375/375 [==============================] - 5s 12ms/step - loss: 0.0015 - accuracy: 0.9996 - val_loss: 0.0997 - val_accuracy: 0.9804\n",
            "Epoch 32/100\n",
            "375/375 [==============================] - 4s 11ms/step - loss: 3.5344e-04 - accuracy: 1.0000 - val_loss: 0.0954 - val_accuracy: 0.9812\n",
            "Epoch 33/100\n",
            "375/375 [==============================] - 6s 15ms/step - loss: 2.0981e-04 - accuracy: 1.0000 - val_loss: 0.0983 - val_accuracy: 0.9807\n",
            "Epoch 34/100\n",
            "375/375 [==============================] - 4s 11ms/step - loss: 2.3314e-04 - accuracy: 1.0000 - val_loss: 0.0961 - val_accuracy: 0.9819\n",
            "Epoch 35/100\n",
            "375/375 [==============================] - 5s 12ms/step - loss: 1.4175e-04 - accuracy: 1.0000 - val_loss: 0.0966 - val_accuracy: 0.9819\n",
            "Epoch 36/100\n",
            "375/375 [==============================] - 5s 14ms/step - loss: 1.0726e-04 - accuracy: 1.0000 - val_loss: 0.0971 - val_accuracy: 0.9818\n",
            "Epoch 37/100\n",
            "375/375 [==============================] - 5s 12ms/step - loss: 9.2859e-05 - accuracy: 1.0000 - val_loss: 0.0980 - val_accuracy: 0.9820\n",
            "Epoch 38/100\n",
            "375/375 [==============================] - 5s 13ms/step - loss: 8.0884e-05 - accuracy: 1.0000 - val_loss: 0.0989 - val_accuracy: 0.9818\n",
            "Epoch 39/100\n",
            "375/375 [==============================] - 5s 14ms/step - loss: 7.1324e-05 - accuracy: 1.0000 - val_loss: 0.0998 - val_accuracy: 0.9826\n",
            "Epoch 40/100\n",
            "375/375 [==============================] - 4s 12ms/step - loss: 6.2229e-05 - accuracy: 1.0000 - val_loss: 0.1002 - val_accuracy: 0.9820\n",
            "Epoch 41/100\n",
            "375/375 [==============================] - 5s 14ms/step - loss: 5.4547e-05 - accuracy: 1.0000 - val_loss: 0.1009 - val_accuracy: 0.9822\n",
            "Epoch 42/100\n",
            "375/375 [==============================] - 4s 11ms/step - loss: 4.8780e-05 - accuracy: 1.0000 - val_loss: 0.1018 - val_accuracy: 0.9822\n",
            "Epoch 43/100\n",
            "375/375 [==============================] - 4s 12ms/step - loss: 4.2404e-05 - accuracy: 1.0000 - val_loss: 0.1022 - val_accuracy: 0.9824\n",
            "Epoch 44/100\n",
            "375/375 [==============================] - 5s 15ms/step - loss: 3.7599e-05 - accuracy: 1.0000 - val_loss: 0.1028 - val_accuracy: 0.9824\n",
            "Epoch 45/100\n",
            "375/375 [==============================] - 4s 12ms/step - loss: 3.1716e-05 - accuracy: 1.0000 - val_loss: 0.1047 - val_accuracy: 0.9823\n",
            "Epoch 46/100\n",
            "375/375 [==============================] - 5s 12ms/step - loss: 2.8291e-05 - accuracy: 1.0000 - val_loss: 0.1044 - val_accuracy: 0.9821\n",
            "Epoch 47/100\n",
            "375/375 [==============================] - 5s 14ms/step - loss: 2.5213e-05 - accuracy: 1.0000 - val_loss: 0.1064 - val_accuracy: 0.9822\n",
            "Epoch 48/100\n",
            "375/375 [==============================] - 4s 12ms/step - loss: 0.0211 - accuracy: 0.9943 - val_loss: 0.1273 - val_accuracy: 0.9759\n",
            "Epoch 49/100\n",
            "375/375 [==============================] - 6s 16ms/step - loss: 0.0055 - accuracy: 0.9982 - val_loss: 0.1091 - val_accuracy: 0.9799\n",
            "Epoch 50/100\n",
            "375/375 [==============================] - 4s 11ms/step - loss: 0.0011 - accuracy: 0.9998 - val_loss: 0.1031 - val_accuracy: 0.9815\n",
            "Epoch 51/100\n",
            "375/375 [==============================] - 5s 12ms/step - loss: 2.8426e-04 - accuracy: 1.0000 - val_loss: 0.1015 - val_accuracy: 0.9820\n",
            "Epoch 52/100\n",
            "375/375 [==============================] - 5s 15ms/step - loss: 1.0989e-04 - accuracy: 1.0000 - val_loss: 0.1021 - val_accuracy: 0.9830\n",
            "Epoch 53/100\n",
            "375/375 [==============================] - 4s 11ms/step - loss: 8.3248e-05 - accuracy: 1.0000 - val_loss: 0.1025 - val_accuracy: 0.9830\n",
            "Epoch 54/100\n",
            "375/375 [==============================] - 5s 12ms/step - loss: 6.9065e-05 - accuracy: 1.0000 - val_loss: 0.1035 - val_accuracy: 0.9827\n",
            "Epoch 55/100\n",
            "375/375 [==============================] - 6s 15ms/step - loss: 5.9210e-05 - accuracy: 1.0000 - val_loss: 0.1039 - val_accuracy: 0.9828\n",
            "Epoch 56/100\n",
            "375/375 [==============================] - 5s 12ms/step - loss: 5.1373e-05 - accuracy: 1.0000 - val_loss: 0.1048 - val_accuracy: 0.9828\n",
            "Epoch 57/100\n",
            "375/375 [==============================] - 5s 14ms/step - loss: 4.5015e-05 - accuracy: 1.0000 - val_loss: 0.1055 - val_accuracy: 0.9828\n",
            "Epoch 58/100\n",
            "375/375 [==============================] - 5s 12ms/step - loss: 3.9312e-05 - accuracy: 1.0000 - val_loss: 0.1058 - val_accuracy: 0.9831\n",
            "Epoch 59/100\n",
            "375/375 [==============================] - 4s 11ms/step - loss: 3.4521e-05 - accuracy: 1.0000 - val_loss: 0.1067 - val_accuracy: 0.9829\n",
            "Epoch 60/100\n",
            "375/375 [==============================] - 5s 14ms/step - loss: 3.0387e-05 - accuracy: 1.0000 - val_loss: 0.1076 - val_accuracy: 0.9825\n",
            "Epoch 61/100\n",
            "375/375 [==============================] - 5s 12ms/step - loss: 2.6455e-05 - accuracy: 1.0000 - val_loss: 0.1082 - val_accuracy: 0.9828\n",
            "Epoch 62/100\n",
            "375/375 [==============================] - 4s 11ms/step - loss: 2.3166e-05 - accuracy: 1.0000 - val_loss: 0.1097 - val_accuracy: 0.9826\n",
            "Epoch 63/100\n",
            "375/375 [==============================] - 6s 15ms/step - loss: 2.0268e-05 - accuracy: 1.0000 - val_loss: 0.1104 - val_accuracy: 0.9828\n",
            "Epoch 64/100\n",
            "375/375 [==============================] - 4s 12ms/step - loss: 1.7698e-05 - accuracy: 1.0000 - val_loss: 0.1117 - val_accuracy: 0.9824\n",
            "Epoch 65/100\n",
            "375/375 [==============================] - 5s 12ms/step - loss: 1.5512e-05 - accuracy: 1.0000 - val_loss: 0.1116 - val_accuracy: 0.9827\n",
            "Epoch 66/100\n",
            "375/375 [==============================] - 5s 14ms/step - loss: 1.3398e-05 - accuracy: 1.0000 - val_loss: 0.1130 - val_accuracy: 0.9826\n",
            "Epoch 67/100\n",
            "375/375 [==============================] - 4s 12ms/step - loss: 1.2106e-05 - accuracy: 1.0000 - val_loss: 0.1142 - val_accuracy: 0.9824\n",
            "Epoch 68/100\n",
            "375/375 [==============================] - 5s 14ms/step - loss: 1.0477e-05 - accuracy: 1.0000 - val_loss: 0.1151 - val_accuracy: 0.9829\n",
            "Epoch 69/100\n",
            "375/375 [==============================] - 4s 12ms/step - loss: 8.9883e-06 - accuracy: 1.0000 - val_loss: 0.1152 - val_accuracy: 0.9827\n",
            "Epoch 70/100\n",
            "375/375 [==============================] - 4s 11ms/step - loss: 7.5837e-06 - accuracy: 1.0000 - val_loss: 0.1167 - val_accuracy: 0.9828\n",
            "Epoch 71/100\n",
            "375/375 [==============================] - 6s 15ms/step - loss: 6.7262e-06 - accuracy: 1.0000 - val_loss: 0.1172 - val_accuracy: 0.9825\n",
            "Epoch 72/100\n",
            "375/375 [==============================] - 5s 14ms/step - loss: 5.7946e-06 - accuracy: 1.0000 - val_loss: 0.1183 - val_accuracy: 0.9822\n",
            "Epoch 73/100\n",
            "375/375 [==============================] - 4s 12ms/step - loss: 4.9741e-06 - accuracy: 1.0000 - val_loss: 0.1195 - val_accuracy: 0.9825\n",
            "Epoch 74/100\n",
            "375/375 [==============================] - 5s 14ms/step - loss: 4.3090e-06 - accuracy: 1.0000 - val_loss: 0.1205 - val_accuracy: 0.9824\n",
            "Epoch 75/100\n",
            "375/375 [==============================] - 5s 12ms/step - loss: 3.6964e-06 - accuracy: 1.0000 - val_loss: 0.1218 - val_accuracy: 0.9830\n",
            "Epoch 76/100\n",
            "375/375 [==============================] - 5s 14ms/step - loss: 3.1648e-06 - accuracy: 1.0000 - val_loss: 0.1218 - val_accuracy: 0.9828\n",
            "Epoch 77/100\n",
            "375/375 [==============================] - 5s 12ms/step - loss: 2.6317e-06 - accuracy: 1.0000 - val_loss: 0.1237 - val_accuracy: 0.9828\n",
            "Epoch 78/100\n",
            "375/375 [==============================] - 5s 12ms/step - loss: 2.2595e-06 - accuracy: 1.0000 - val_loss: 0.1249 - val_accuracy: 0.9829\n",
            "Epoch 79/100\n",
            "375/375 [==============================] - 5s 15ms/step - loss: 1.9324e-06 - accuracy: 1.0000 - val_loss: 0.1262 - val_accuracy: 0.9828\n",
            "Epoch 80/100\n",
            "375/375 [==============================] - 4s 12ms/step - loss: 1.7500e-06 - accuracy: 1.0000 - val_loss: 0.1264 - val_accuracy: 0.9830\n",
            "Epoch 81/100\n",
            "375/375 [==============================] - 4s 12ms/step - loss: 0.0170 - accuracy: 0.9963 - val_loss: 0.2088 - val_accuracy: 0.9703\n",
            "Epoch 82/100\n",
            "375/375 [==============================] - 6s 15ms/step - loss: 0.0105 - accuracy: 0.9965 - val_loss: 0.1304 - val_accuracy: 0.9793\n",
            "Epoch 83/100\n",
            "375/375 [==============================] - 4s 12ms/step - loss: 0.0013 - accuracy: 0.9996 - val_loss: 0.1313 - val_accuracy: 0.9792\n",
            "Epoch 84/100\n",
            "375/375 [==============================] - 5s 12ms/step - loss: 1.7648e-04 - accuracy: 1.0000 - val_loss: 0.1265 - val_accuracy: 0.9808\n",
            "Epoch 85/100\n",
            "375/375 [==============================] - 5s 14ms/step - loss: 6.0821e-05 - accuracy: 1.0000 - val_loss: 0.1267 - val_accuracy: 0.9809\n",
            "Epoch 86/100\n",
            "375/375 [==============================] - 5s 12ms/step - loss: 4.4750e-05 - accuracy: 1.0000 - val_loss: 0.1270 - val_accuracy: 0.9811\n",
            "Epoch 87/100\n",
            "375/375 [==============================] - 5s 14ms/step - loss: 3.7068e-05 - accuracy: 1.0000 - val_loss: 0.1275 - val_accuracy: 0.9812\n",
            "Epoch 88/100\n",
            "375/375 [==============================] - 4s 12ms/step - loss: 3.1512e-05 - accuracy: 1.0000 - val_loss: 0.1278 - val_accuracy: 0.9812\n",
            "Epoch 89/100\n",
            "375/375 [==============================] - 5s 12ms/step - loss: 2.7221e-05 - accuracy: 1.0000 - val_loss: 0.1283 - val_accuracy: 0.9811\n",
            "Epoch 90/100\n",
            "375/375 [==============================] - 5s 14ms/step - loss: 2.3632e-05 - accuracy: 1.0000 - val_loss: 0.1288 - val_accuracy: 0.9812\n",
            "Epoch 91/100\n",
            "375/375 [==============================] - 4s 11ms/step - loss: 2.0401e-05 - accuracy: 1.0000 - val_loss: 0.1292 - val_accuracy: 0.9810\n",
            "Epoch 92/100\n",
            "375/375 [==============================] - 4s 12ms/step - loss: 1.7545e-05 - accuracy: 1.0000 - val_loss: 0.1301 - val_accuracy: 0.9811\n",
            "Epoch 93/100\n",
            "375/375 [==============================] - 6s 15ms/step - loss: 1.5341e-05 - accuracy: 1.0000 - val_loss: 0.1302 - val_accuracy: 0.9811\n",
            "Epoch 94/100\n",
            "375/375 [==============================] - 4s 12ms/step - loss: 1.3325e-05 - accuracy: 1.0000 - val_loss: 0.1310 - val_accuracy: 0.9814\n",
            "Epoch 95/100\n",
            "375/375 [==============================] - 5s 13ms/step - loss: 1.1643e-05 - accuracy: 1.0000 - val_loss: 0.1313 - val_accuracy: 0.9814\n",
            "Epoch 96/100\n",
            "375/375 [==============================] - 5s 14ms/step - loss: 1.0029e-05 - accuracy: 1.0000 - val_loss: 0.1321 - val_accuracy: 0.9814\n",
            "Epoch 97/100\n",
            "375/375 [==============================] - 4s 12ms/step - loss: 8.7877e-06 - accuracy: 1.0000 - val_loss: 0.1326 - val_accuracy: 0.9818\n",
            "Epoch 98/100\n",
            "375/375 [==============================] - 7s 18ms/step - loss: 7.5953e-06 - accuracy: 1.0000 - val_loss: 0.1336 - val_accuracy: 0.9817\n",
            "Epoch 99/100\n",
            "375/375 [==============================] - 7s 18ms/step - loss: 6.6356e-06 - accuracy: 1.0000 - val_loss: 0.1338 - val_accuracy: 0.9818\n",
            "Epoch 100/100\n",
            "375/375 [==============================] - 8s 22ms/step - loss: 5.7517e-06 - accuracy: 1.0000 - val_loss: 0.1353 - val_accuracy: 0.9819\n"
          ]
        }
      ]
    },
    {
      "cell_type": "code",
      "source": [
        "import matplotlib.pyplot as plt"
      ],
      "metadata": {
        "id": "Uaob-L6Gma88"
      },
      "execution_count": 23,
      "outputs": []
    },
    {
      "cell_type": "code",
      "source": [
        "plt.plot(hist.history['loss'], 'r-', label = 'loss')\n",
        "plt.plot(hist.history['val_loss'], 'b-.', label = 'val loss')\n",
        "plt.legend()\n",
        "plt.show()"
      ],
      "metadata": {
        "colab": {
          "base_uri": "https://localhost:8080/",
          "height": 430
        },
        "id": "QxP07R5gobZC",
        "outputId": "3ea8cc9c-3573-4905-d6cd-1bb723de3271"
      },
      "execution_count": 25,
      "outputs": [
        {
          "output_type": "display_data",
          "data": {
            "text/plain": [
              "<Figure size 640x480 with 1 Axes>"
            ],
            "image/png": "[encoded data removed]"
          },
          "metadata": {}
        }
      ]
    },
    {
      "cell_type": "markdown",
      "source": [
        "## 예측 및 평가"
      ],
      "metadata": {
        "id": "FONGhC_zprGe"
      }
    },
    {
      "cell_type": "code",
      "source": [
        "pred = model.predict(x_test)"
      ],
      "metadata": {
        "colab": {
          "base_uri": "https://localhost:8080/"
        },
        "id": "WdDR_Ucso6wu",
        "outputId": "ebcebdc6-24a1-4599-eee0-ac85d3acdb88"
      },
      "execution_count": 26,
      "outputs": [
        {
          "output_type": "stream",
          "name": "stdout",
          "text": [
            "313/313 [==============================] - 1s 4ms/step\n"
          ]
        }
      ]
    },
    {
      "cell_type": "code",
      "source": [
        "pred[0], y_test[0]"
      ],
      "metadata": {
        "colab": {
          "base_uri": "https://localhost:8080/"
        },
        "id": "X3XpIcLvpu15",
        "outputId": "53b53ed3-9a2c-4d7c-d513-e493dd2f5579"
      },
      "execution_count": 27,
      "outputs": [
        {
          "output_type": "execute_result",
          "data": {
            "text/plain": [
              "(array([1.0077169e-21, 1.0058849e-21, 1.0070854e-16, 3.3367284e-14,\n",
              "        2.7895522e-33, 2.8077127e-25, 3.8833621e-29, 9.9999994e-01,\n",
              "        2.2440947e-18, 1.3998593e-16], dtype=float32),\n",
              " 7)"
            ]
          },
          "metadata": {},
          "execution_count": 27
        }
      ]
    },
    {
      "cell_type": "code",
      "source": [
        "model.evaluate(x_test, y_test)"
      ],
      "metadata": {
        "colab": {
          "base_uri": "https://localhost:8080/"
        },
        "id": "m5g6vvzopx52",
        "outputId": "4e5bef48-53fe-44f0-83f1-ddd4c32ba05f"
      },
      "execution_count": 28,
      "outputs": [
        {
          "output_type": "stream",
          "name": "stdout",
          "text": [
            "313/313 [==============================] - 2s 7ms/step - loss: 0.1036 - accuracy: 0.9832\n"
          ]
        },
        {
          "output_type": "execute_result",
          "data": {
            "text/plain": [
              "[0.10358847677707672, 0.9832000136375427]"
            ]
          },
          "metadata": {},
          "execution_count": 28
        }
      ]
    },
    {
      "cell_type": "markdown",
      "source": [
        "## 데이터 표현"
      ],
      "metadata": {
        "id": "mOx5zT9itDUV"
      }
    },
    {
      "cell_type": "markdown",
      "source": [
        "### 스칼라 - 텐서 0"
      ],
      "metadata": {
        "id": "W6MU5sT4thjf"
      }
    },
    {
      "cell_type": "code",
      "source": [
        "import numpy as np"
      ],
      "metadata": {
        "id": "KOJ5EWTFp-b6"
      },
      "execution_count": 29,
      "outputs": []
    },
    {
      "cell_type": "code",
      "source": [
        "x = np.array(12)\n",
        "x"
      ],
      "metadata": {
        "colab": {
          "base_uri": "https://localhost:8080/"
        },
        "id": "jPSLG5sjtSSp",
        "outputId": "84532ef9-1730-4890-825d-62e915d61445"
      },
      "execution_count": 30,
      "outputs": [
        {
          "output_type": "execute_result",
          "data": {
            "text/plain": [
              "array(12)"
            ]
          },
          "metadata": {},
          "execution_count": 30
        }
      ]
    },
    {
      "cell_type": "code",
      "source": [
        "x.ndim"
      ],
      "metadata": {
        "colab": {
          "base_uri": "https://localhost:8080/"
        },
        "id": "EBiAwRFWtT_y",
        "outputId": "6ad6ed76-6750-43be-ac38-39ab24b6f27f"
      },
      "execution_count": 31,
      "outputs": [
        {
          "output_type": "execute_result",
          "data": {
            "text/plain": [
              "0"
            ]
          },
          "metadata": {},
          "execution_count": 31
        }
      ]
    },
    {
      "cell_type": "markdown",
      "source": [
        "### 벡터 텐서1"
      ],
      "metadata": {
        "id": "UvbeXs-3tnL-"
      }
    },
    {
      "cell_type": "code",
      "source": [
        "x = np.array([1,2,3,4])\n",
        "x.ndim, x.shape"
      ],
      "metadata": {
        "colab": {
          "base_uri": "https://localhost:8080/"
        },
        "id": "18QZpTYItmvh",
        "outputId": "19b2505c-ba12-4563-a413-f64a6e5c8adf"
      },
      "execution_count": 33,
      "outputs": [
        {
          "output_type": "execute_result",
          "data": {
            "text/plain": [
              "(1, (4,))"
            ]
          },
          "metadata": {},
          "execution_count": 33
        }
      ]
    },
    {
      "cell_type": "markdown",
      "source": [
        "### 행렬 - 텐서2"
      ],
      "metadata": {
        "id": "Vv64CkbDt07m"
      }
    },
    {
      "cell_type": "code",
      "source": [
        "x = np.array([[1,2,3],[4,5,6]])\n",
        "x.ndim, x.shape"
      ],
      "metadata": {
        "colab": {
          "base_uri": "https://localhost:8080/"
        },
        "id": "bJlrOqHWttGo",
        "outputId": "ce1a72e1-9af8-4f8f-8bc8-6f43abf55ff2"
      },
      "execution_count": 34,
      "outputs": [
        {
          "output_type": "execute_result",
          "data": {
            "text/plain": [
              "(2, (2, 3))"
            ]
          },
          "metadata": {},
          "execution_count": 34
        }
      ]
    },
    {
      "cell_type": "code",
      "source": [
        "#다차원\n",
        "x = np.array([[[1,2,3],[4,5,6]],\n",
        "              [[1,2,3],[4,5,6]]])\n",
        "x.ndim, x.shape"
      ],
      "metadata": {
        "colab": {
          "base_uri": "https://localhost:8080/"
        },
        "id": "YryCENE8t_3C",
        "outputId": "4e204bc8-c31f-4a1b-815b-e57bcee8838e"
      },
      "execution_count": 35,
      "outputs": [
        {
          "output_type": "execute_result",
          "data": {
            "text/plain": [
              "(3, (2, 2, 3))"
            ]
          },
          "metadata": {},
          "execution_count": 35
        }
      ]
    },
    {
      "cell_type": "code",
      "source": [
        "x_train.ndim, x_train.shape, x_train.reshape(-1,28,28).shape"
      ],
      "metadata": {
        "colab": {
          "base_uri": "https://localhost:8080/"
        },
        "id": "D5_YOrhvuSCf",
        "outputId": "25b01514-6b10-48fd-ae15-b5d0db0afe9e"
      },
      "execution_count": 37,
      "outputs": [
        {
          "output_type": "execute_result",
          "data": {
            "text/plain": [
              "(2, (60000, 784), (60000, 28, 28))"
            ]
          },
          "metadata": {},
          "execution_count": 37
        }
      ]
    },
    {
      "cell_type": "code",
      "source": [
        "img = x_train[0].reshape(28,28)\n",
        "plt.imshow(img)\n",
        "plt.title(str(y_train[0]))\n",
        "plt.show()"
      ],
      "metadata": {
        "colab": {
          "base_uri": "https://localhost:8080/",
          "height": 452
        },
        "id": "4fqRLKuTueUy",
        "outputId": "0f53f8a0-a7a5-4688-9170-37db1dee6d50"
      },
      "execution_count": 38,
      "outputs": [
        {
          "output_type": "display_data",
          "data": {
            "text/plain": [
              "<Figure size 640x480 with 1 Axes>"
            ],
            "image/png": "[encoded data removed]"
          },
          "metadata": {}
        }
      ]
    },
    {
      "cell_type": "code",
      "source": [
        "batch1 = x_train[:128]\n",
        "batch2 = x_train[128:256]\n",
        "batch1.shape, batch2.shape"
      ],
      "metadata": {
        "colab": {
          "base_uri": "https://localhost:8080/"
        },
        "id": "LJgPbgvHvD-c",
        "outputId": "1eea3f40-b75a-433e-d2d8-7404c944a7fd"
      },
      "execution_count": 39,
      "outputs": [
        {
          "output_type": "execute_result",
          "data": {
            "text/plain": [
              "((128, 784), (128, 784))"
            ]
          },
          "metadata": {},
          "execution_count": 39
        }
      ]
    },
    {
      "cell_type": "code",
      "source": [
        "batches = []\n",
        "for i in range(int(len(x_train)/128)):\n",
        "    batches.append(x_train[i*128:(i+1)*128])\n",
        "len(batches)"
      ],
      "metadata": {
        "colab": {
          "base_uri": "https://localhost:8080/"
        },
        "id": "ITs8wjDMvqZ7",
        "outputId": "658e216f-ef13-4270-946a-d8bec9149a6e"
      },
      "execution_count": 41,
      "outputs": [
        {
          "output_type": "execute_result",
          "data": {
            "text/plain": [
              "468"
            ]
          },
          "metadata": {},
          "execution_count": 41
        }
      ]
    },
    {
      "cell_type": "markdown",
      "source": [
        "## 연산"
      ],
      "metadata": {
        "id": "Xq53IyhYyFl-"
      }
    },
    {
      "cell_type": "code",
      "source": [
        "def add(x2d, y2d):\n",
        "    r2d = x2d.copy()\n",
        "    for i in range(x2d.shape[0]):\n",
        "        for j in range(x2d.shape[1]):\n",
        "            r2d[i,j] = x[i,j] + y2d[i,j]\n",
        "    return r2d"
      ],
      "metadata": {
        "id": "n7PcaP6nv8-9"
      },
      "execution_count": 43,
      "outputs": []
    },
    {
      "cell_type": "code",
      "source": [
        "x = np.random.random((3,3))\n",
        "y = np.random.random((3,3))\n",
        "print(x)\n",
        "print(y)\n",
        "add(x,y)"
      ],
      "metadata": {
        "colab": {
          "base_uri": "https://localhost:8080/"
        },
        "id": "hvVq-oKGygdl",
        "outputId": "ba8fde0b-b619-418e-ef83-420d61397bf2"
      },
      "execution_count": 44,
      "outputs": [
        {
          "output_type": "stream",
          "name": "stdout",
          "text": [
            "[[0.00504762 0.44042086 0.50085461]\n",
            " [0.31211778 0.3992543  0.59301375]\n",
            " [0.67328469 0.18959538 0.49457939]]\n",
            "[[0.40546172 0.99631598 0.36712757]\n",
            " [0.24643148 0.80958182 0.41787211]\n",
            " [0.48545138 0.25792212 0.35799249]]\n"
          ]
        },
        {
          "output_type": "execute_result",
          "data": {
            "text/plain": [
              "array([[0.41050934, 1.43673684, 0.86798219],\n",
              "       [0.55854927, 1.20883612, 1.01088587],\n",
              "       [1.15873607, 0.4475175 , 0.85257188]])"
            ]
          },
          "metadata": {},
          "execution_count": 44
        }
      ]
    },
    {
      "cell_type": "code",
      "source": [
        "x = np.random.random((28,28))\n",
        "y = np.random.random((28,28))\n",
        "x+y"
      ],
      "metadata": {
        "colab": {
          "base_uri": "https://localhost:8080/"
        },
        "id": "dEZC5zVdy2kh",
        "outputId": "a68ab17b-48bb-4495-ce4f-bd40196a6e92"
      },
      "execution_count": 45,
      "outputs": [
        {
          "output_type": "execute_result",
          "data": {
            "text/plain": [
              "array([[0.05709664, 0.91003837, 1.17762936, 0.96096064, 0.49185729,\n",
              "        0.18309535, 1.33014121, 0.61673531, 1.64439498, 0.56478269,\n",
              "        0.16590736, 0.59302725, 1.57283488, 1.31290471, 0.60607145,\n",
              "        1.5159959 , 0.41479762, 0.84234613, 0.1605018 , 0.73628657,\n",
              "        1.42382629, 0.55064362, 1.62750425, 0.96936394, 0.56309756,\n",
              "        1.52937704, 0.62725029, 0.69925572],\n",
              "       [1.03151121, 1.14448466, 1.39685558, 0.8737819 , 1.72252043,\n",
              "        1.19486521, 1.4019887 , 0.81850039, 0.82390775, 0.83161455,\n",
              "        1.54321153, 0.55646249, 1.59647307, 0.90952869, 0.90788738,\n",
              "        1.19633226, 0.71288834, 1.71504478, 1.29472352, 1.00865363,\n",
              "        1.76916475, 0.74288624, 1.09524079, 1.86849224, 1.23339815,\n",
              "        1.23157139, 1.05119092, 0.72913148],\n",
              "       [0.52242983, 1.14904267, 0.90996211, 0.95190127, 0.28117982,\n",
              "        1.2721981 , 1.27100239, 1.11728493, 0.84202045, 1.49892477,\n",
              "        1.28756966, 1.42550239, 0.24455576, 0.34455764, 1.68287123,\n",
              "        1.72719852, 0.93194879, 1.3867735 , 1.00697313, 0.61363717,\n",
              "        0.74789974, 0.34838299, 1.18932281, 0.56894165, 0.62278665,\n",
              "        1.39780163, 1.4706351 , 1.37797339],\n",
              "       [0.83511085, 0.20057838, 0.94483147, 0.61316565, 1.0577496 ,\n",
              "        1.31289139, 0.85513641, 0.51354624, 0.99552199, 1.27112187,\n",
              "        1.36665183, 0.96313415, 0.15284098, 0.65550105, 1.13637317,\n",
              "        0.53724599, 0.51279575, 1.39133847, 1.38377194, 1.38629181,\n",
              "        1.58552819, 1.30941843, 0.98163403, 0.69320868, 0.95286068,\n",
              "        0.77035221, 0.72992916, 0.78883122],\n",
              "       [1.30560172, 1.63171515, 1.15426225, 0.48143117, 1.46121759,\n",
              "        0.8005639 , 1.10535274, 0.2023554 , 1.02752214, 0.33777877,\n",
              "        1.46530797, 0.23216917, 0.80416157, 0.72793831, 1.23519376,\n",
              "        0.86575165, 0.36628261, 1.39468075, 1.17254204, 0.9167315 ,\n",
              "        1.24105487, 1.70976285, 1.15258929, 1.01477807, 1.00586353,\n",
              "        1.16561045, 1.46694977, 0.60147282],\n",
              "       [0.59167786, 1.6923751 , 1.04268137, 0.42561538, 0.13080422,\n",
              "        1.28466863, 1.77795745, 0.52150288, 0.96301009, 0.86364759,\n",
              "        0.64956097, 1.29962775, 0.73111363, 1.02780209, 1.77067789,\n",
              "        0.47414371, 1.1840811 , 1.01236807, 0.73407866, 1.06278448,\n",
              "        0.35266552, 0.15197592, 1.59779385, 1.06067805, 0.91285639,\n",
              "        1.60683514, 0.80257376, 1.24751922],\n",
              "       [1.8973354 , 0.93968358, 1.08138888, 0.84643869, 0.49257258,\n",
              "        1.38203995, 0.68687753, 1.35892987, 1.05483579, 0.66845632,\n",
              "        0.94288781, 0.78049243, 1.50571301, 1.55087841, 1.82623438,\n",
              "        0.31970373, 0.94553754, 0.74971878, 0.78063267, 0.28709103,\n",
              "        1.14668327, 0.66117631, 1.03724356, 1.02307971, 0.4635126 ,\n",
              "        1.41757122, 1.53182751, 1.34401494],\n",
              "       [0.8475921 , 1.27395327, 0.51970121, 0.64176917, 0.27834719,\n",
              "        0.56333073, 1.45728296, 1.55551808, 1.07530214, 1.03634406,\n",
              "        0.46516659, 1.25025739, 1.02570411, 1.06590531, 0.91710911,\n",
              "        1.07841316, 0.39713087, 1.36228292, 1.63469484, 1.9195353 ,\n",
              "        0.90634511, 0.63325185, 1.31723574, 1.38938533, 1.39039453,\n",
              "        0.84266594, 1.21675107, 1.06266105],\n",
              "       [1.18760266, 1.04581955, 1.47415003, 1.56855482, 1.76198226,\n",
              "        1.14813482, 1.34680902, 1.69225736, 1.02021323, 0.39784859,\n",
              "        0.20794944, 1.15594151, 0.26506755, 1.74864365, 0.66675767,\n",
              "        0.83494755, 0.76285905, 0.89429813, 1.57757105, 0.94363876,\n",
              "        0.89896411, 0.94036236, 0.95380507, 0.88425487, 0.54462247,\n",
              "        1.32158311, 0.61045799, 0.99337968],\n",
              "       [1.63162994, 0.94726811, 1.05239893, 1.12195939, 0.524329  ,\n",
              "        0.60461107, 1.35072534, 0.29245047, 1.07726468, 1.17564267,\n",
              "        0.93965709, 1.55734799, 0.86668012, 1.29154955, 1.42482529,\n",
              "        1.00874857, 0.45050715, 1.27294975, 0.98021218, 0.93312996,\n",
              "        0.8989861 , 0.72112148, 0.47872428, 1.0436129 , 1.57066311,\n",
              "        0.69483785, 1.06708705, 0.72011102],\n",
              "       [1.18218142, 1.15560493, 0.69067351, 0.80750783, 1.11506194,\n",
              "        1.46620028, 1.00476659, 1.28619021, 0.87701452, 0.90372662,\n",
              "        0.57253862, 0.5900754 , 0.69824391, 1.1520744 , 0.20624416,\n",
              "        1.071576  , 0.94305232, 1.19266021, 1.02904429, 1.15353935,\n",
              "        1.93120215, 0.56888638, 1.37859559, 1.4293688 , 0.92746015,\n",
              "        0.04845903, 1.04169884, 1.35138653],\n",
              "       [0.29273789, 1.10835061, 1.84595022, 0.79679645, 1.10612135,\n",
              "        0.97625143, 0.78535758, 1.10456861, 0.90255822, 1.06747201,\n",
              "        0.57333496, 0.94382631, 1.42688373, 1.30099602, 1.27873893,\n",
              "        1.26697139, 0.82780671, 1.21827827, 0.30473674, 0.23170213,\n",
              "        0.90190453, 1.48198877, 1.45802415, 0.87135896, 1.49108771,\n",
              "        1.22486389, 1.08894269, 0.09424258],\n",
              "       [1.5013608 , 0.80487226, 0.21472645, 0.34123402, 0.87773635,\n",
              "        1.55548976, 0.7833374 , 0.5463956 , 1.59255465, 1.14619593,\n",
              "        0.91391714, 1.19286521, 1.23305606, 0.83934652, 0.32504635,\n",
              "        0.80481088, 1.86489218, 1.01476117, 1.05671317, 1.1236157 ,\n",
              "        0.53377165, 0.68591762, 0.72246134, 1.51425091, 0.93505372,\n",
              "        1.03760596, 1.40011025, 1.37523014],\n",
              "       [0.52164203, 0.84002207, 1.65155906, 1.31181274, 0.96169387,\n",
              "        1.61497956, 1.68230003, 0.73860937, 1.52536843, 0.70337641,\n",
              "        0.56271691, 1.78230444, 1.68350669, 0.79013375, 1.02669327,\n",
              "        1.07871807, 1.72362602, 0.77038437, 0.59440568, 1.96608706,\n",
              "        1.03824044, 1.13449522, 0.63047625, 0.59825228, 1.7480535 ,\n",
              "        0.97538677, 1.40396434, 0.35610855],\n",
              "       [1.10724577, 1.1285818 , 1.29736167, 0.31748416, 1.33521458,\n",
              "        0.8928101 , 1.18104088, 0.98274042, 0.3987541 , 1.27596637,\n",
              "        0.96947946, 0.2899293 , 1.51704251, 1.23823114, 0.17738003,\n",
              "        1.64016655, 1.13783644, 0.72283954, 1.95718916, 0.88256231,\n",
              "        1.251782  , 1.08050605, 0.77952176, 1.25265959, 0.70718052,\n",
              "        1.45163672, 1.34615146, 0.89667341],\n",
              "       [0.71254882, 0.85969416, 0.63309001, 0.66432523, 0.82443147,\n",
              "        1.36019398, 1.00892186, 0.97679246, 0.32825138, 0.72777795,\n",
              "        0.8532381 , 0.78472162, 1.17621676, 1.45813012, 0.61324557,\n",
              "        0.57657574, 1.39542687, 1.07775374, 0.75816757, 0.48206923,\n",
              "        0.4109825 , 1.01888204, 0.94219769, 1.35577391, 0.77701822,\n",
              "        1.18698972, 1.355159  , 0.13449086],\n",
              "       [1.01468257, 0.32182586, 0.80475961, 0.98442827, 0.90736576,\n",
              "        1.06695193, 0.82844476, 0.48916361, 1.08080221, 1.37866869,\n",
              "        0.81213672, 1.20163964, 0.81791728, 0.7794671 , 1.24632744,\n",
              "        0.89025698, 0.56431539, 1.11646259, 1.34083029, 1.26847822,\n",
              "        0.8111603 , 0.442019  , 0.82154788, 1.08788088, 1.04291219,\n",
              "        0.98507047, 0.56873371, 1.47990518],\n",
              "       [1.12482104, 0.57675011, 1.32024204, 1.7966469 , 1.68512043,\n",
              "        0.86381069, 0.795611  , 0.73899272, 0.44344971, 1.28081099,\n",
              "        1.00480927, 1.74588759, 0.51501937, 0.97040385, 0.75415493,\n",
              "        0.94392767, 0.77744019, 1.72730569, 0.96061434, 1.15749028,\n",
              "        1.24889102, 1.0610346 , 1.37982031, 0.54544773, 1.23316666,\n",
              "        0.92669088, 0.53571609, 1.44692681],\n",
              "       [0.38581141, 1.1941892 , 0.95418595, 0.91594728, 1.04135809,\n",
              "        0.76016585, 1.14240007, 0.61537409, 0.6170642 , 1.24675614,\n",
              "        0.1938423 , 0.54479569, 0.64561632, 1.18894407, 1.04498061,\n",
              "        1.37476946, 0.96721417, 0.96853463, 1.56973956, 1.4908035 ,\n",
              "        1.43650299, 1.32277352, 0.8479701 , 1.33664282, 1.42783257,\n",
              "        0.98607948, 0.95538511, 1.11023469],\n",
              "       [1.02160395, 1.07071364, 0.28174649, 1.18398173, 1.1433301 ,\n",
              "        1.49797996, 0.49923727, 1.12638378, 0.58276267, 1.57183675,\n",
              "        1.26149696, 0.76878963, 0.46996387, 1.32927363, 0.75554987,\n",
              "        1.53956549, 0.10761266, 1.15887959, 1.53415929, 1.18738973,\n",
              "        0.47245331, 0.70332868, 0.92762604, 0.79379126, 1.11535501,\n",
              "        0.60353277, 1.37847542, 1.33177435],\n",
              "       [1.01530234, 0.72905473, 1.29035918, 0.90042935, 1.37779749,\n",
              "        1.60746608, 1.07777123, 0.8568266 , 1.45578902, 1.02949901,\n",
              "        1.10030863, 0.86032321, 1.09472054, 1.25862485, 0.7826109 ,\n",
              "        0.66240445, 0.40628428, 0.86661658, 1.51088445, 1.01488786,\n",
              "        1.81092194, 0.26002514, 0.68887198, 1.1043349 , 1.85884269,\n",
              "        1.66655986, 1.11090458, 1.63835533],\n",
              "       [0.74956436, 0.56428824, 0.59585621, 1.20961662, 1.33510895,\n",
              "        0.60313227, 1.34828005, 0.88705333, 1.16019771, 1.54903863,\n",
              "        0.92281632, 1.73032789, 1.12189209, 0.62784765, 1.10370689,\n",
              "        1.13887981, 0.71471023, 0.43022843, 1.44519147, 0.88956196,\n",
              "        0.91287536, 0.62369476, 1.23716444, 0.46529566, 1.59702703,\n",
              "        0.98871509, 1.08732582, 0.64729527],\n",
              "       [0.54905807, 1.52794758, 1.39401172, 0.56410415, 0.90297414,\n",
              "        1.02634552, 1.67232465, 1.536836  , 0.31956675, 0.99314127,\n",
              "        0.55665797, 0.68165545, 1.34799327, 0.99557817, 1.9212767 ,\n",
              "        0.35016117, 1.4259534 , 0.89634593, 0.5560455 , 0.94739478,\n",
              "        0.91829858, 0.53988086, 0.81917117, 1.24905486, 1.43975799,\n",
              "        1.69644714, 0.76355533, 0.99660014],\n",
              "       [1.03832874, 1.51962161, 1.10732334, 1.48132483, 1.20346351,\n",
              "        0.51546105, 1.12051886, 1.41293779, 1.5548219 , 0.86001803,\n",
              "        1.29752645, 1.29147138, 0.77967699, 1.6085968 , 1.27171069,\n",
              "        0.41214918, 0.93309471, 1.06023601, 1.58059915, 0.56549925,\n",
              "        0.80685909, 0.67753773, 1.34559797, 1.32892759, 0.94140646,\n",
              "        1.17800176, 0.98914748, 1.04435092],\n",
              "       [0.46969777, 1.05424417, 1.59360902, 1.49338919, 1.08694875,\n",
              "        0.97308612, 0.5909494 , 0.72550702, 0.8091608 , 0.76629161,\n",
              "        0.97108273, 1.49335639, 1.42717661, 1.44549953, 0.25878311,\n",
              "        0.67675249, 0.63328963, 0.89828212, 0.59883538, 0.65686208,\n",
              "        1.71257146, 1.07403023, 1.00390551, 0.63613445, 1.28687533,\n",
              "        1.06558643, 1.50120372, 1.91249   ],\n",
              "       [1.1137265 , 0.90510554, 1.35236851, 1.16507407, 0.87032719,\n",
              "        0.88120752, 1.47816531, 0.80951825, 1.32345842, 0.71680956,\n",
              "        1.09303165, 1.57009465, 1.17234601, 0.56956623, 0.38971765,\n",
              "        0.90864178, 1.02601963, 0.85043803, 1.55798015, 0.97905071,\n",
              "        0.73707303, 1.28703464, 1.10953804, 1.65070807, 1.19403674,\n",
              "        1.4716108 , 1.08625281, 1.07191685],\n",
              "       [0.89383727, 1.37549131, 0.86518024, 1.39484837, 0.90594208,\n",
              "        1.11416395, 1.25198449, 1.31122497, 0.64392584, 1.11179709,\n",
              "        0.39037103, 1.73526985, 0.50961931, 0.61169986, 0.67669689,\n",
              "        1.38430063, 1.26095723, 0.48678245, 0.2913809 , 1.57696572,\n",
              "        1.77958097, 1.04628618, 0.78518624, 0.6163871 , 1.22071191,\n",
              "        0.77141746, 1.07041867, 1.03953799],\n",
              "       [0.99049381, 0.38704154, 1.24735394, 0.65705059, 1.34106403,\n",
              "        1.140844  , 0.86890882, 0.74732864, 1.81568189, 1.82082491,\n",
              "        0.98144892, 1.20560703, 1.7247729 , 1.60858122, 1.60656866,\n",
              "        1.2254763 , 0.84964473, 0.56445388, 0.39270223, 1.26628417,\n",
              "        1.4333868 , 0.67751718, 1.05457586, 0.50239773, 1.44214343,\n",
              "        0.98082383, 1.04738126, 1.24713275]])"
            ]
          },
          "metadata": {},
          "execution_count": 45
        }
      ]
    },
    {
      "cell_type": "code",
      "source": [
        "st = time.time()\n",
        "for _ in range(10000):\n",
        "    z = x + y\n",
        "et = time.time()\n",
        "print(f'{et-st:.5f}')"
      ],
      "metadata": {
        "colab": {
          "base_uri": "https://localhost:8080/"
        },
        "id": "7vyblSrozCMh",
        "outputId": "fa4f9463-f689-45dc-885e-865caafc3d17"
      },
      "execution_count": 46,
      "outputs": [
        {
          "output_type": "stream",
          "name": "stdout",
          "text": [
            "0.02285\n"
          ]
        }
      ]
    },
    {
      "cell_type": "code",
      "source": [
        "st = time.time()\n",
        "for _ in range(10000):\n",
        "    z = add(x,y)\n",
        "et = time.time()\n",
        "print(f'{et-st:.5f}')"
      ],
      "metadata": {
        "colab": {
          "base_uri": "https://localhost:8080/"
        },
        "id": "yhYg-Fdxzyp2",
        "outputId": "fb5714a0-8024-4075-9c9a-786f28be7a52"
      },
      "execution_count": 47,
      "outputs": [
        {
          "output_type": "stream",
          "name": "stdout",
          "text": [
            "6.71953\n"
          ]
        }
      ]
    },
    {
      "cell_type": "code",
      "source": [
        "def dot(x,y):\n",
        "    r = np.zeros((x.shape[0],y.shape[1]))\n",
        "    for i in range(x.shape[0]):\n",
        "        s = 0\n",
        "        for j in range(x.shape[1]):\n",
        "            s += x[i,j] * y[j]\n",
        "        r[i] = s\n",
        "    return r"
      ],
      "metadata": {
        "id": "IDq9iSZQ0I6M"
      },
      "execution_count": 48,
      "outputs": []
    },
    {
      "cell_type": "code",
      "source": [
        "x = np.array([[1,2,3],[4,5,6]])\n",
        "y = np.array([[1],[1],[3]])\n",
        "x.shape, y.shape"
      ],
      "metadata": {
        "colab": {
          "base_uri": "https://localhost:8080/"
        },
        "id": "BvLffGxx1aId",
        "outputId": "a312126c-35f9-40e7-e255-cb0d48fdf25c"
      },
      "execution_count": 49,
      "outputs": [
        {
          "output_type": "execute_result",
          "data": {
            "text/plain": [
              "((2, 3), (3, 1))"
            ]
          },
          "metadata": {},
          "execution_count": 49
        }
      ]
    },
    {
      "cell_type": "code",
      "source": [
        "dot(x,y)"
      ],
      "metadata": {
        "colab": {
          "base_uri": "https://localhost:8080/"
        },
        "id": "btQGBz1w1ifS",
        "outputId": "e8bea301-5346-4165-9f7f-009929cade7a"
      },
      "execution_count": 50,
      "outputs": [
        {
          "output_type": "execute_result",
          "data": {
            "text/plain": [
              "array([[12.],\n",
              "       [27.]])"
            ]
          },
          "metadata": {},
          "execution_count": 50
        }
      ]
    },
    {
      "cell_type": "code",
      "source": [],
      "metadata": {
        "id": "xhI1eo3k1jue"
      },
      "execution_count": null,
      "outputs": []
    }
  ]
}